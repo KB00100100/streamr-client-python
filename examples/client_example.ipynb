{
 "cells": [
  {
   "cell_type": "code",
   "execution_count": 1,
   "metadata": {},
   "outputs": [],
   "source": [
    "import threading\n",
    "import logging\n",
    "from streamr.client.client import Client\n",
    "from streamr.rest import session\n",
    "\n",
    "import json\n",
    "import time"
   ]
  },
  {
   "cell_type": "code",
   "execution_count": 2,
   "metadata": {},
   "outputs": [],
   "source": [
    "apiKey = '27ogvnHOQhGFQGETwjf1dAWFd2wXHbTlKCj_uEUTESXw'"
   ]
  },
  {
   "cell_type": "code",
   "execution_count": 3,
   "metadata": {
    "scrolled": false
   },
   "outputs": [],
   "source": [
    "cli = Client({'apiKey':apiKey,'autoConnect':False,'autoDisconnect':False,'sessionTokenRefreshInterval':10})"
   ]
  },
  {
   "cell_type": "code",
   "execution_count": 4,
   "metadata": {},
   "outputs": [],
   "source": [
    "stream = cli.getOrCreateStream('stream-test')"
   ]
  },
  {
   "cell_type": "code",
   "execution_count": 5,
   "metadata": {},
   "outputs": [
    {
     "data": {
      "text/plain": [
       "[{'config': {'fields': []},\n",
       "  'dateCreated': '2019-01-27T09:16:22Z',\n",
       "  'description': 'None',\n",
       "  'feed': {'id': 7, 'module': 147, 'name': 'API'},\n",
       "  'id': 'NQUihKiZTT6cc9F2-bLU2A',\n",
       "  'lastUpdated': '2019-01-27T09:16:22Z',\n",
       "  'name': 'stream-test',\n",
       "  'partitions': 1,\n",
       "  'requireSignedData': False,\n",
       "  'uiChannel': False}]"
      ]
     },
     "execution_count": 5,
     "metadata": {},
     "output_type": "execute_result"
    }
   ],
   "source": [
    "stream"
   ]
  },
  {
   "cell_type": "code",
   "execution_count": 6,
   "metadata": {},
   "outputs": [],
   "source": [
    "streamByName = cli.getStreamByName('stream-test')"
   ]
  },
  {
   "cell_type": "code",
   "execution_count": 7,
   "metadata": {
    "scrolled": true
   },
   "outputs": [
    {
     "data": {
      "text/plain": [
       "[{'config': {'fields': []},\n",
       "  'dateCreated': '2019-01-27T09:16:22Z',\n",
       "  'description': 'None',\n",
       "  'feed': {'id': 7, 'module': 147, 'name': 'API'},\n",
       "  'id': 'NQUihKiZTT6cc9F2-bLU2A',\n",
       "  'lastUpdated': '2019-01-27T09:16:22Z',\n",
       "  'name': 'stream-test',\n",
       "  'partitions': 1,\n",
       "  'requireSignedData': False,\n",
       "  'uiChannel': False}]"
      ]
     },
     "execution_count": 7,
     "metadata": {},
     "output_type": "execute_result"
    }
   ],
   "source": [
    "streamByName"
   ]
  },
  {
   "cell_type": "code",
   "execution_count": 8,
   "metadata": {},
   "outputs": [],
   "source": [
    "streamId = streamByName[0]['id']"
   ]
  },
  {
   "cell_type": "code",
   "execution_count": 9,
   "metadata": {},
   "outputs": [
    {
     "data": {
      "text/plain": [
       "'NQUihKiZTT6cc9F2-bLU2A'"
      ]
     },
     "execution_count": 9,
     "metadata": {},
     "output_type": "execute_result"
    }
   ],
   "source": [
    "streamId"
   ]
  },
  {
   "cell_type": "code",
   "execution_count": 10,
   "metadata": {
    "scrolled": true
   },
   "outputs": [
    {
     "data": {
      "text/plain": [
       "{'config': {'fields': []},\n",
       " 'dateCreated': '2019-01-27T09:16:22Z',\n",
       " 'description': 'None',\n",
       " 'feed': {'id': 7, 'module': 147, 'name': 'API'},\n",
       " 'id': 'NQUihKiZTT6cc9F2-bLU2A',\n",
       " 'lastUpdated': '2019-01-27T09:16:22Z',\n",
       " 'name': 'stream-test',\n",
       " 'partitions': 1,\n",
       " 'requireSignedData': False,\n",
       " 'uiChannel': False}"
      ]
     },
     "execution_count": 10,
     "metadata": {},
     "output_type": "execute_result"
    }
   ],
   "source": [
    "cli.getStreamById(streamId)"
   ]
  },
  {
   "cell_type": "code",
   "execution_count": 11,
   "metadata": {
    "scrolled": false
   },
   "outputs": [
    {
     "data": {
      "text/plain": [
       "'disconnected'"
      ]
     },
     "execution_count": 11,
     "metadata": {},
     "output_type": "execute_result"
    }
   ],
   "source": [
    "cli.connection.state"
   ]
  },
  {
   "cell_type": "code",
   "execution_count": 12,
   "metadata": {
    "scrolled": false
   },
   "outputs": [
    {
     "name": "stdout",
     "output_type": "stream",
     "text": [
      "Client state : connecting\n",
      "Client state : connected\n"
     ]
    }
   ],
   "source": [
    "cli.connect()\n",
    "while(cli.connection.state != cli.connection.State.CONNECTED):\n",
    "    pass"
   ]
  },
  {
   "cell_type": "code",
   "execution_count": 13,
   "metadata": {},
   "outputs": [],
   "source": [
    "def callback(parsedMsg,msg):\n",
    "    print('received message. Content : ',parsedMsg,' streamId : ',msg.streamId,'streamParition : ',msg.streamPartition)"
   ]
  },
  {
   "cell_type": "code",
   "execution_count": 15,
   "metadata": {
    "scrolled": false
   },
   "outputs": [],
   "source": [
    "subscription = cli.subscribe(streamId,callback)"
   ]
  },
  {
   "cell_type": "code",
   "execution_count": 16,
   "metadata": {
    "scrolled": true
   },
   "outputs": [
    {
     "data": {
      "text/plain": [
       "'NQUihKiZTT6cc9F2-bLU2A'"
      ]
     },
     "execution_count": 16,
     "metadata": {},
     "output_type": "execute_result"
    }
   ],
   "source": [
    "subscription.streamId"
   ]
  },
  {
   "cell_type": "code",
   "execution_count": 18,
   "metadata": {
    "scrolled": false
   },
   "outputs": [
    {
     "name": "stdout",
     "output_type": "stream",
     "text": [
      "received message. Content :  {'name': 'google', 'age': 19}  streamId :  NQUihKiZTT6cc9F2-bLU2A streamParition :  0\n",
      "received message. Content :  {'name': 'facebook', 'age': 11}  streamId :  NQUihKiZTT6cc9F2-bLU2A streamParition :  0\n",
      "received message. Content :  {'name': 'yahoo', 'age': 13}  streamId :  NQUihKiZTT6cc9F2-bLU2A streamParition :  0\n",
      "received message. Content :  {'name': 'twitter', 'age': 1}  streamId :  NQUihKiZTT6cc9F2-bLU2A streamParition :  0\n"
     ]
    }
   ],
   "source": [
    "msg = [{\"name\":'google',\"age\":19},{\"name\":\"facebook\",\"age\":11},{\"name\":\"yahoo\",\"age\":13},{\"name\":\"twitter\",\"age\":1}]\n",
    "for m in msg:\n",
    "    cli.publish(subscription,m)"
   ]
  },
  {
   "cell_type": "code",
   "execution_count": 19,
   "metadata": {
    "scrolled": true
   },
   "outputs": [
    {
     "name": "stdout",
     "output_type": "stream",
     "text": [
      "Client state : disconnecting\n",
      "Client state : disconnected\n"
     ]
    }
   ],
   "source": [
    "cli.disconnect()"
   ]
  }
 ],
 "metadata": {
  "kernelspec": {
   "display_name": "Python 3",
   "language": "python",
   "name": "python3"
  },
  "language_info": {
   "codemirror_mode": {
    "name": "ipython",
    "version": 3
   },
   "file_extension": ".py",
   "mimetype": "text/x-python",
   "name": "python",
   "nbconvert_exporter": "python",
   "pygments_lexer": "ipython3",
   "version": "3.6.4"
  }
 },
 "nbformat": 4,
 "nbformat_minor": 2
}
