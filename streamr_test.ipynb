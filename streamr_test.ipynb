{
 "cells": [
  {
   "cell_type": "code",
   "execution_count": 1,
   "metadata": {},
   "outputs": [],
   "source": [
    "from streamr import Client, Option\n",
    "import logging\n",
    "import time"
   ]
  },
  {
   "cell_type": "code",
   "execution_count": 2,
   "metadata": {},
   "outputs": [
    {
     "name": "stdout",
     "output_type": "stream",
     "text": [
      "Client state : CONNECTING\n"
     ]
    }
   ],
   "source": [
    "logging.basicConfig(filename='haha.log',level=logging.INFO)\n",
    "\n",
    "\n",
    "my_option = Option.get_default_option()\n",
    "my_option.auto_disconnect = False\n",
    "my_option.auto_connect = False\n",
    "my_option.api_key = '27ogvnHOQhGFQGETwjf1dAWFd2wXHbTlKCj_uEUTESXw'\n",
    "my_client = Client(my_option)\n",
    "\n",
    "# To connect to the server, you can use connect function\n",
    "# This function returns immediately and you can query the state by is_connected function\n",
    "my_client.connect()\n",
    "\n",
    "stream_id = '1RwVDCtxSA6eDI4WRScXPw'"
   ]
  },
  {
   "cell_type": "code",
   "execution_count": 3,
   "metadata": {
    "scrolled": true
   },
   "outputs": [],
   "source": [
    "stream = my_client.get_stream_by_id(stream_id)"
   ]
  },
  {
   "cell_type": "code",
   "execution_count": 4,
   "metadata": {},
   "outputs": [],
   "source": [
    "\n",
    "def callback(parsed_msg, msg_object):\n",
    "    \"\"\"\n",
    "    callback function which will be called when subscription received a message\n",
    "    :param parsed_msg: deserialized message\n",
    "    :param msg_object: message dict object\n",
    "    :return:\n",
    "    \"\"\"\n",
    "    \n",
    "#     print(msg_object)\n",
    "    print(parsed_msg)"
   ]
  },
  {
   "cell_type": "code",
   "execution_count": 5,
   "metadata": {
    "scrolled": true
   },
   "outputs": [],
   "source": [
    "sub = my_client.subscribe(stream_id,callback)"
   ]
  },
  {
   "cell_type": "code",
   "execution_count": 9,
   "metadata": {
    "scrolled": false
   },
   "outputs": [
    {
     "name": "stdout",
     "output_type": "stream",
     "text": [
      "<streamr.protocol.payload.StreamMessage object at 0x111345ef0>\n",
      "{'name': 'haha40', 'age': 19}\n"
     ]
    }
   ],
   "source": [
    "my_client.publish(sub,{'name':'haha40','age':19})"
   ]
  },
  {
   "cell_type": "code",
   "execution_count": 37,
   "metadata": {
    "scrolled": true
   },
   "outputs": [
    {
     "data": {
      "text/plain": [
       "'CONNECTED'"
      ]
     },
     "execution_count": 37,
     "metadata": {},
     "output_type": "execute_result"
    }
   ],
   "source": [
    "my_client.connection.state"
   ]
  },
  {
   "cell_type": "code",
   "execution_count": null,
   "metadata": {},
   "outputs": [],
   "source": []
  },
  {
   "cell_type": "code",
   "execution_count": null,
   "metadata": {},
   "outputs": [],
   "source": []
  },
  {
   "cell_type": "code",
   "execution_count": 15,
   "metadata": {},
   "outputs": [
    {
     "name": "stdout",
     "output_type": "stream",
     "text": [
      "Client state : DISCONNECTING\n",
      "Client state : DISCONNECTED\n"
     ]
    }
   ],
   "source": [
    "my_client.disconnect()"
   ]
  },
  {
   "cell_type": "code",
   "execution_count": 17,
   "metadata": {},
   "outputs": [
    {
     "name": "stdout",
     "output_type": "stream",
     "text": [
      "Client state : CONNECTING\n",
      "Client state : CONNECTED\n"
     ]
    }
   ],
   "source": [
    "my_client.connect()"
   ]
  },
  {
   "cell_type": "code",
   "execution_count": null,
   "metadata": {},
   "outputs": [],
   "source": []
  },
  {
   "cell_type": "code",
   "execution_count": null,
   "metadata": {},
   "outputs": [],
   "source": []
  }
 ],
 "metadata": {
  "kernelspec": {
   "display_name": "Python 3",
   "language": "python",
   "name": "python3"
  },
  "language_info": {
   "codemirror_mode": {
    "name": "ipython",
    "version": 3
   },
   "file_extension": ".py",
   "mimetype": "text/x-python",
   "name": "python",
   "nbconvert_exporter": "python",
   "pygments_lexer": "ipython3",
   "version": "3.6.4"
  }
 },
 "nbformat": 4,
 "nbformat_minor": 2
}
