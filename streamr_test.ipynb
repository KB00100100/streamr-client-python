{
 "cells": [
  {
   "cell_type": "code",
   "execution_count": 1,
   "metadata": {},
   "outputs": [],
   "source": [
    "from streamr.client.client import Client, Option\n",
    "import logging\n",
    "import time"
   ]
  },
  {
   "cell_type": "code",
   "execution_count": 2,
   "metadata": {
    "scrolled": true
   },
   "outputs": [
    {
     "name": "stdout",
     "output_type": "stream",
     "text": [
      "Client state : CONNECTING\n",
      "Client state : CONNECTED\n"
     ]
    }
   ],
   "source": [
    "logging.basicConfig(filename='haha.log',level=logging.INFO,format=\"%(asctime)s %(name)s %(levelname)s %(message)s\",\n",
    "                    datefmt = '%Y-%m-%d  %H:%M:%S %a'  )\n",
    "\n",
    "\n",
    "my_option = Option.get_default_option()\n",
    "my_option.auto_disconnect = False\n",
    "my_option.auto_connect = False\n",
    "my_option.api_key = '27ogvnHOQhGFQGETwjf1dAWFd2wXHbTlKCj_uEUTESXw'\n",
    "my_client = Client(my_option)\n",
    "\n",
    "# To connect to the server, you can use connect function\n",
    "# This function returns immediately and you can query the state by is_connected function\n",
    "my_client.connect()\n",
    "\n",
    "stream_id = 'pvfOJLrXQLqkTIyaCxeK3A'"
   ]
  },
  {
   "cell_type": "code",
   "execution_count": 8,
   "metadata": {
    "scrolled": true
   },
   "outputs": [],
   "source": [
    "stream = my_client.get_stream_by_id(stream_id)"
   ]
  },
  {
   "cell_type": "code",
   "execution_count": 10,
   "metadata": {},
   "outputs": [],
   "source": [
    "\n",
    "def callback(parsed_msg, msg_object):\n",
    "    \"\"\"\n",
    "    callback function which will be called when subscription received a message\n",
    "    :param parsed_msg: deserialized message\n",
    "    :param msg_object: message dict object\n",
    "    :return:\n",
    "    \"\"\"\n",
    "    \n",
    "    print(parsed_msg)"
   ]
  },
  {
   "cell_type": "code",
   "execution_count": 11,
   "metadata": {
    "scrolled": true
   },
   "outputs": [],
   "source": [
    "sub = my_client.subscribe(stream_id,callback)"
   ]
  },
  {
   "cell_type": "code",
   "execution_count": 12,
   "metadata": {
    "scrolled": true
   },
   "outputs": [
    {
     "name": "stdout",
     "output_type": "stream",
     "text": [
      "{'name': '1', 'age': 31}\n"
     ]
    }
   ],
   "source": [
    "my_client.publish(stream_id,{'name':'1','age':31})"
   ]
  },
  {
   "cell_type": "code",
   "execution_count": null,
   "metadata": {},
   "outputs": [],
   "source": []
  },
  {
   "cell_type": "code",
   "execution_count": null,
   "metadata": {},
   "outputs": [],
   "source": []
  },
  {
   "cell_type": "code",
   "execution_count": null,
   "metadata": {},
   "outputs": [],
   "source": []
  },
  {
   "cell_type": "code",
   "execution_count": 7,
   "metadata": {
    "scrolled": false
   },
   "outputs": [
    {
     "data": {
      "text/plain": [
       "'CONNECTED'"
      ]
     },
     "execution_count": 7,
     "metadata": {},
     "output_type": "execute_result"
    }
   ],
   "source": [
    "my_client.connection.state"
   ]
  },
  {
   "cell_type": "code",
   "execution_count": null,
   "metadata": {},
   "outputs": [],
   "source": []
  },
  {
   "cell_type": "code",
   "execution_count": null,
   "metadata": {},
   "outputs": [],
   "source": []
  },
  {
   "cell_type": "code",
   "execution_count": 15,
   "metadata": {},
   "outputs": [
    {
     "name": "stdout",
     "output_type": "stream",
     "text": [
      "Client state : DISCONNECTING\n",
      "Client state : DISCONNECTED\n"
     ]
    }
   ],
   "source": [
    "my_client.disconnect()"
   ]
  },
  {
   "cell_type": "code",
   "execution_count": 17,
   "metadata": {},
   "outputs": [
    {
     "name": "stdout",
     "output_type": "stream",
     "text": [
      "Client state : CONNECTING\n",
      "Client state : CONNECTED\n"
     ]
    }
   ],
   "source": [
    "my_client.connect()"
   ]
  },
  {
   "cell_type": "code",
   "execution_count": null,
   "metadata": {},
   "outputs": [],
   "source": []
  },
  {
   "cell_type": "code",
   "execution_count": null,
   "metadata": {},
   "outputs": [],
   "source": []
  }
 ],
 "metadata": {
  "kernelspec": {
   "display_name": "Python 3",
   "language": "python",
   "name": "python3"
  },
  "language_info": {
   "codemirror_mode": {
    "name": "ipython",
    "version": 3
   },
   "file_extension": ".py",
   "mimetype": "text/x-python",
   "name": "python",
   "nbconvert_exporter": "python",
   "pygments_lexer": "ipython3",
   "version": "3.6.4"
  }
 },
 "nbformat": 4,
 "nbformat_minor": 2
}
